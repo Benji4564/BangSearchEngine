{
 "cells": [
  {
   "cell_type": "code",
   "execution_count": 1,
   "metadata": {},
   "outputs": [
    {
     "name": "stdout",
     "output_type": "stream",
     "text": [
      "loading model...\n",
      "model loaded\n"
     ]
    },
    {
     "name": "stderr",
     "output_type": "stream",
     "text": [
      "AVX = 1 | AVX2 = 1 | AVX512 = 0 | AVX512_VBMI = 0 | AVX512_VNNI = 0 | FMA = 1 | NEON = 0 | ARM_FMA = 0 | F16C = 1 | FP16_VA = 0 | WASM_SIMD = 0 | BLAS = 0 | SSE3 = 1 | VSX = 0 | \n"
     ]
    }
   ],
   "source": [
    "\n",
    "from llama_cpp import Llama\n",
    "\n",
    "print(\"loading model...\")\n",
    "llm = Llama(model_path=\"F:/Dokumente/AI/Mosaic/models/Manticore-13B-Chat-Pyg.ggmlv3.q4_0.bin\")\n",
    "print(\"model loaded\")"
   ]
  },
  {
   "cell_type": "code",
   "execution_count": 2,
   "metadata": {},
   "outputs": [],
   "source": [
    "import wikipedia"
   ]
  },
  {
   "cell_type": "code",
   "execution_count": 3,
   "metadata": {},
   "outputs": [
    {
     "name": "stdout",
     "output_type": "stream",
     "text": [
      "Volkswagen (German pronunciation: [ˈfɔlksˌvaːɡn̩] (listen)), abbreviated as VW ([faʊˈveː] (listen)) is a German motor vehicle manufacturer headquartered in Wolfsburg, Lower Saxony, Germany. Founded in 1937 by the German Labour Front under the Nazi Party and revived into a global brand post-World War II by the British Army Officer Ivan Hirst, it is known for the iconic Beetle and serves as the flagship brand of the Volkswagen Group, the largest automotive manufacturer by worldwide sales in 2016 and 2017. The group's biggest market is in China, which delivers 40 percent of its sales and profits. Its name is derived from the German-language terms Volk and Wagen, translating to \"people's car\" when combined.\n",
      "\n",
      "\n",
      "== History ==\n",
      "\n",
      "\n",
      "=== 1932–1940: People's Car project ===\n",
      "\n",
      "Volkswagen was established in 1937 by the German Labour Front (Deutsche Arbeitsfront) in Berlin. In the early 1930s, cars were a luxury – most Germans could afford nothing more elaborate than a motorcycle and only one German out of 50 owned a car. Seeking a potential new market, some car makers began independent \"people's car\" projects – the Mercedes 170H, BMW 3/15, Adler AutoBahn, Steyr 55, and Hanomag 1.3L, among others.\n",
      "The growing trend was not nascent; Béla Barényi, a pioneering automotive engineer, is credited as already having conceived the basic design during the mid-1920s. Josef Ganz developed the Standard Superior (going as far as advertising it as the \"German Volkswagen\"). In Germany, the company Hanomag mass-produced the 2/10 PS \"Kommissbrot\", a small, cheap rear-engined car, from 1925 to 1928.\n"
     ]
    }
   ],
   "source": [
    "summary = wikipedia.summary(\"Volkswagen\" , sentences=20)\n",
    "print(summary)"
   ]
  },
  {
   "cell_type": "code",
   "execution_count": 6,
   "metadata": {},
   "outputs": [
    {
     "name": "stderr",
     "output_type": "stream",
     "text": [
      "Llama.generate: prefix-match hit\n"
     ]
    },
    {
     "name": "stdout",
     "output_type": "stream",
     "text": [
      "{'id': 'cmpl-5291b19a-172f-4115-90e2-480b076f4eb8', 'object': 'text_completion', 'created': 1685002443, 'model': 'F:/Dokumente/AI/Mosaic/models/Manticore-13B-Chat-Pyg.ggmlv3.q4_0.bin', 'choices': [{'text': '\\n\\nThe main goal of Volkswagen is to provide high-quality and reliable vehicles for customers worldwide, while also focusing on innovation and sustainability.', 'index': 0, 'logprobs': None, 'finish_reason': 'stop'}], 'usage': {'prompt_tokens': 32, 'completion_tokens': 34, 'total_tokens': 66}}\n"
     ]
    }
   ],
   "source": [
    "output = llm( \n",
    "    \"Create a sentence, that can be used to search in an search engine, inlcuding the main points: The main goal of Volkswagen. \\nQuerry:\",\n",
    "    temperature=0.1,\n",
    "    )\n",
    "print(output)"
   ]
  }
 ],
 "metadata": {
  "kernelspec": {
   "display_name": "transformer-lang",
   "language": "python",
   "name": "python3"
  },
  "language_info": {
   "codemirror_mode": {
    "name": "ipython",
    "version": 3
   },
   "file_extension": ".py",
   "mimetype": "text/x-python",
   "name": "python",
   "nbconvert_exporter": "python",
   "pygments_lexer": "ipython3",
   "version": "3.10.11"
  },
  "orig_nbformat": 4
 },
 "nbformat": 4,
 "nbformat_minor": 2
}
