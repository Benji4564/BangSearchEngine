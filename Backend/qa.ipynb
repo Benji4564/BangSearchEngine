{
 "cells": [
  {
   "cell_type": "code",
   "execution_count": null,
   "metadata": {},
   "outputs": [],
   "source": [
    "import torch\n",
    "from transformers import PegasusForConditionalGeneration, PegasusTokenizer\n",
    "model_name = 'tuner007/pegasus_qa'\n",
    "torch_device = 'cuda' if torch.cuda.is_available() else 'cpu'\n",
    "tokenizer = PegasusTokenizer.from_pretrained(model_name)\n",
    "model = PegasusForConditionalGeneration.from_pretrained(model_name).to(torch_device)\n",
    "\n",
    "def get_answer(question, context):\n",
    "  input_text = \"question: %s text: %s\" % (question,context)\n",
    "  batch = tokenizer.prepare_seq2seq_batch([input_text], truncation=True, padding='longest', return_tensors=\"pt\").to(torch_device)\n",
    "  translated = model.generate(**batch)\n",
    "  tgt_text = tokenizer.batch_decode(translated, skip_special_tokens=True)\n",
    "  return tgt_text[0]\n"
   ]
  },
  {
   "cell_type": "code",
   "execution_count": 3,
   "metadata": {},
   "outputs": [
    {
     "name": "stdout",
     "output_type": "stream",
     "text": [
      "German Labour Front\n"
     ]
    }
   ],
   "source": [
    "import wikipedia\n",
    "summary = wikipedia.summary(\"Volkswagen\")\n",
    "print(get_answer(\"Who founded Volkswagen\",summary))"
   ]
  },
  {
   "cell_type": "code",
   "execution_count": 8,
   "metadata": {},
   "outputs": [
    {
     "name": "stdout",
     "output_type": "stream",
     "text": [
      "https://en.wikipedia.org/wiki/Volkswagen\n",
      "https://www.history.com/this-day-in-history/volkswagen-is-founded\n",
      "https://www.volkswagenag.com/en/group/history/chronicle/1937_1945.html\n",
      "https://golden.com/wiki/Volkswagen-DB9NB\n",
      "https://www.volkswagen-newsroom.com/en/history-3693\n"
     ]
    }
   ],
   "source": [
    "from googlesearch import search\n",
    "query = \"Who founded Volkswagen\"\n",
    "search_result_list = search(query, num_results=5)\n",
    "for i, search_result in enumerate(search_result_list):\n",
    "  print(search_result)"
   ]
  },
  {
   "cell_type": "code",
   "execution_count": 7,
   "metadata": {},
   "outputs": [
    {
     "name": "stderr",
     "output_type": "stream",
     "text": [
      "Downloading (…)lve/main/config.json: 100%|██████████| 710/710 [00:00<?, ?B/s] \n",
      "Downloading pytorch_model.bin: 100%|██████████| 440M/440M [00:33<00:00, 13.3MB/s] \n",
      "Downloading (…)okenizer_config.json: 100%|██████████| 522/522 [00:00<?, ?B/s] \n",
      "Downloading (…)tencepiece.bpe.model: 100%|██████████| 811k/811k [00:00<00:00, 16.5MB/s]\n",
      "Downloading (…)/main/tokenizer.json: 100%|██████████| 2.42M/2.42M [00:00<00:00, 10.6MB/s]\n",
      "Downloading (…)cial_tokens_map.json: 100%|██████████| 354/354 [00:00<?, ?B/s] \n"
     ]
    },
    {
     "name": "stdout",
     "output_type": "stream",
     "text": [
      "235 millions\n"
     ]
    }
   ],
   "source": [
    "from transformers import pipeline\n",
    "\n",
    "qa = pipeline('question-answering', model='CATIE-AQ/QAmembert', tokenizer='CATIE-AQ/QAmembert')\n",
    "\n",
    "result = qa({\n",
    "    'question': \"Combien de personnes utilisent le français tous les jours ?\",\n",
    "    'context': \"Le français est une langue indo-européenne de la famille des langues romanes dont les locuteurs sont appelés francophones. Elle est parfois surnommée la langue de Molière.  Le français est parlé, en 2023, sur tous les continents par environ 321 millions de personnes : 235 millions l'emploient quotidiennement et 90 millions en sont des locuteurs natifs. En 2018, 80 millions d'élèves et étudiants s'instruisent en français dans le monde. Selon l'Organisation internationale de la francophonie (OIF), il pourrait y avoir 700 millions de francophones sur Terre en 2050.\"\n",
    "})\n",
    "\n",
    "if result['score'] < 0.1:\n",
    "    print(\"La réponse n'est pas dans le contexte fourni.\")\n",
    "else :\n",
    "    print(result['answer'])\n"
   ]
  },
  {
   "cell_type": "code",
   "execution_count": null,
   "metadata": {},
   "outputs": [],
   "source": [
    "text = \"Who was Louis 14? </s> Louis 14 was a French King.\"\n",
    "\n",
    "\n",
    "\n",
    "    "
   ]
  },
  {
   "cell_type": "code",
   "execution_count": 6,
   "metadata": {},
   "outputs": [
    {
     "name": "stdout",
     "output_type": "stream",
     "text": [
      "cuda\n"
     ]
    }
   ],
   "source": [
    "import torch\n",
    "torch_device = 'cuda' if torch.cuda._is_compiled else 'cpu'\n",
    "print(torch_device)"
   ]
  },
  {
   "cell_type": "code",
   "execution_count": 16,
   "metadata": {},
   "outputs": [],
   "source": [
    "qa = pipeline(\"question-answering\", model='distilbert-base-cased-distilled-squad', max_anwer_len=100, tokenizer='distilbert-base-cased-distilled-squad')"
   ]
  },
  {
   "cell_type": "code",
   "execution_count": 17,
   "metadata": {},
   "outputs": [
    {
     "name": "stdout",
     "output_type": "stream",
     "text": [
      "<pad> the German Labour Front under the Nazi Party and revived into a global brand post-World War II by the British Army Officer Ivan Hirst, it is known for the iconic Beetle and serves as the flagship brand of the Volkswagen Group</s>\n"
     ]
    }
   ],
   "source": [
    "\n",
    "from transformers import T5Tokenizer, T5ForConditionalGeneration\n",
    "import wikipedia\n",
    "\n",
    "text = wikipedia.summary(\"Volkswagen\")\n",
    "question = \"Who founded Volkswagen\"\n",
    "tokenizer = T5Tokenizer.from_pretrained(\"google/flan-t5-large\")\n",
    "model = T5ForConditionalGeneration.from_pretrained(\"google/flan-t5-large\")\n",
    "\n",
    "input_text = \"answer as full sentence: %s context: %s \" % (question, text)\n",
    "input_ids = tokenizer(input_text, return_tensors=\"pt\").input_ids\n",
    "\n",
    "answer = model.generate(input_ids, max_length=1000, num_beams=4, early_stopping=True, min_length=50)\n",
    "print(tokenizer.decode(answer[0]))"
   ]
  }
 ],
 "metadata": {
  "kernelspec": {
   "display_name": "transformer-lang",
   "language": "python",
   "name": "python3"
  },
  "language_info": {
   "codemirror_mode": {
    "name": "ipython",
    "version": 3
   },
   "file_extension": ".py",
   "mimetype": "text/x-python",
   "name": "python",
   "nbconvert_exporter": "python",
   "pygments_lexer": "ipython3",
   "version": "3.10.11"
  },
  "orig_nbformat": 4
 },
 "nbformat": 4,
 "nbformat_minor": 2
}
